{
 "cells": [
  {
   "cell_type": "markdown",
   "metadata": {},
   "source": [
    "# Export a normalized section\n",
    "\n",
    "This notebook exports a single section from the discharge summary. This notebook requires the `section-header-mapping.csv` file to be in the same directory.\n",
    "\n",
    "Output is `{}-text.csv` - a CSV with the `row_id` and the section text for the desired section. It is possible to have `row_id` with empty text."
   ]
  },
  {
   "cell_type": "code",
   "execution_count": 1,
   "metadata": {
    "collapsed": true
   },
   "outputs": [],
   "source": [
    "import pandas as pd\n",
    "import numpy as np\n",
    "import os\n",
    "import re\n",
    "import psycopg2\n",
    "from IPython.display import display, HTML"
   ]
  },
  {
   "cell_type": "markdown",
   "metadata": {},
   "source": [
    "Connect to the database."
   ]
  },
  {
   "cell_type": "code",
   "execution_count": 3,
   "metadata": {
    "collapsed": false
   },
   "outputs": [],
   "source": [
    "# specify user/password/where the database is\n",
    "sqluser = 'postgres'\n",
    "sqlpass = 'postgres'\n",
    "dbname = 'mimic'\n",
    "schema_name = 'mimiciii'\n",
    "host = 'localhost'\n",
    "\n",
    "query_schema = 'SET search_path to ' + schema_name + ';'\n",
    "\n",
    "# connect to the database\n",
    "con = psycopg2.connect(dbname=dbname, user=sqluser, password=sqlpass, host=host)"
   ]
  },
  {
   "cell_type": "code",
   "execution_count": 4,
   "metadata": {
    "collapsed": false
   },
   "outputs": [
    {
     "data": {
      "text/plain": [
       "Index(['row_id', 'subject_id', 'hadm_id', 'chartdate', 'charttime',\n",
       "       'storetime', 'category', 'description', 'cgid', 'iserror', 'text'],\n",
       "      dtype='object')"
      ]
     },
     "execution_count": 4,
     "metadata": {},
     "output_type": "execute_result"
    }
   ],
   "source": [
    "# load a single note\n",
    "query = query_schema + \"\"\"\n",
    "select * from noteevents\n",
    "where category = 'Discharge summary'\n",
    "and description = 'Report'\n",
    "\"\"\"\n",
    "df = pd.read_sql_query(query, con)\n",
    "df.columns"
   ]
  },
  {
   "cell_type": "code",
   "execution_count": 5,
   "metadata": {
    "collapsed": true
   },
   "outputs": [],
   "source": [
    "# read the map\n",
    "smap = pd.read_csv('section-header-mapping.csv', header=0)\n",
    "smap.columns = ['header','header_fixed']\n",
    "smap = smap.set_index('header')['header_fixed'].to_dict()\n",
    "\n",
    "# regex for finding section headers\n",
    "pattern = \"\\n[ ]*\\n([A-z0-9 ]+)(:| WERE | INCLUD | IS | ARE)\"\n",
    "\n",
    "def cleanup_header_name(header_name):\n",
    "    # normalize header name: remove preceeding/trailing whitespace, convert to lower case\n",
    "    return header_name.lstrip(' ').rstrip(' ').lower()"
   ]
  },
  {
   "cell_type": "code",
   "execution_count": 11,
   "metadata": {
    "collapsed": false
   },
   "outputs": [],
   "source": [
    "desired_section = 'admission medications'\n",
    "section_data = list()\n",
    "\n",
    "for i, row in df.iterrows():\n",
    "    row_id = row['row_id']\n",
    "    text = row['text']\n",
    "    hadm_id = row['hadm_id']\n",
    "    \n",
    "    # remove bad matches\n",
    "    match_list = list()\n",
    "    for match in re.finditer(pattern, text, re.M):\n",
    "        header_name = cleanup_header_name(match.groups()[0])\n",
    "        if header_name not in smap:\n",
    "            # not a true section header\n",
    "            continue\n",
    "        else:\n",
    "            match_list.append(match)\n",
    "    \n",
    "    current_note_list = list()\n",
    "    prev_match = None\n",
    "    \n",
    "    section_text = ''\n",
    "    for i in range(len(match_list)-1):\n",
    "        # to extract a section:\n",
    "        #   find next section header start index\n",
    "        #   extract out from this section end index to next section start index\n",
    "        match = match_list[i]\n",
    "        next_match = match_list[i+1]\n",
    "        \n",
    "        header_name = cleanup_header_name(match.groups()[0])\n",
    "        header_fixed = smap[header_name]\n",
    "        \n",
    "        if header_fixed == desired_section:\n",
    "            section_text += text[match.end():next_match.start()]\n",
    "            \n",
    "    # check the last section header match\n",
    "    if len(match_list)>0:\n",
    "        match = match_list[-1]\n",
    "        header_name = cleanup_header_name(match.groups()[0])\n",
    "        header_fixed = smap[header_name]\n",
    "\n",
    "        if header_fixed == desired_section:\n",
    "            section_text += text[match.end():]\n",
    "    \n",
    "    # output to dataframe\n",
    "    section_data.append( [row_id, section_text.lstrip('\\n')] )\n",
    "    \n",
    "# info from section headers\n",
    "sh = pd.DataFrame(section_data)\n",
    "sh.columns = ['row_id','text']"
   ]
  },
  {
   "cell_type": "code",
   "execution_count": 13,
   "metadata": {
    "collapsed": false
   },
   "outputs": [],
   "source": [
    "# output to file\n",
    "sh.to_csv('{}-text.csv'.format(desired_section))"
   ]
  }
 ],
 "metadata": {
  "kernelspec": {
   "display_name": "Python 3.5",
   "language": "python",
   "name": "python35"
  },
  "language_info": {
   "codemirror_mode": {
    "name": "ipython",
    "version": 3
   },
   "file_extension": ".py",
   "mimetype": "text/x-python",
   "name": "python",
   "nbconvert_exporter": "python",
   "pygments_lexer": "ipython3",
   "version": "3.5.2"
  }
 },
 "nbformat": 4,
 "nbformat_minor": 0
}
